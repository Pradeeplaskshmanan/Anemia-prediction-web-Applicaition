{
 "cells": [
  {
   "cell_type": "code",
   "execution_count": 246,
   "id": "4d662ab6",
   "metadata": {
    "ExecuteTime": {
     "end_time": "2023-10-18T11:13:23.315327200Z",
     "start_time": "2023-10-18T11:13:23.284077100Z"
    }
   },
   "outputs": [],
   "source": [
    "import pandas as pd\n",
    "import numpy as np\n",
    "import matplotlib.pyplot as plt\n",
    "import seaborn as sns\n",
    "import warnings\n",
    "warnings.filterwarnings(\"ignore\")"
   ]
  },
  {
   "cell_type": "code",
   "execution_count": 247,
   "id": "40476422",
   "metadata": {
    "ExecuteTime": {
     "end_time": "2023-10-18T11:13:24.014067600Z",
     "start_time": "2023-10-18T11:13:23.964192700Z"
    }
   },
   "outputs": [],
   "source": [
    "data=pd.read_csv(\"Anaemia.csv\")"
   ]
  },
  {
   "cell_type": "code",
   "execution_count": 248,
   "id": "76960484",
   "metadata": {
    "ExecuteTime": {
     "end_time": "2023-10-18T11:13:24.922656Z",
     "start_time": "2023-10-18T11:13:24.860687900Z"
    }
   },
   "outputs": [
    {
     "data": {
      "text/plain": "   NO  Hemoglobin   MCH  MCHC   MCV  GENDER      RESULT\n0   1        14.9  22.7  29.1  83.7    Male  Not Anemia\n1   2        15.9  25.4  28.3  72.0  Female  Not Anemia\n2   3         9.0  21.5  29.6  71.2  Female      Anemia\n3   4        14.9  16.0  31.4  87.5  Female  Not Anemia\n4   5        14.7  22.0  28.2  99.5    Male  Not Anemia",
      "text/html": "<div>\n<style scoped>\n    .dataframe tbody tr th:only-of-type {\n        vertical-align: middle;\n    }\n\n    .dataframe tbody tr th {\n        vertical-align: top;\n    }\n\n    .dataframe thead th {\n        text-align: right;\n    }\n</style>\n<table border=\"1\" class=\"dataframe\">\n  <thead>\n    <tr style=\"text-align: right;\">\n      <th></th>\n      <th>NO</th>\n      <th>Hemoglobin</th>\n      <th>MCH</th>\n      <th>MCHC</th>\n      <th>MCV</th>\n      <th>GENDER</th>\n      <th>RESULT</th>\n    </tr>\n  </thead>\n  <tbody>\n    <tr>\n      <th>0</th>\n      <td>1</td>\n      <td>14.9</td>\n      <td>22.7</td>\n      <td>29.1</td>\n      <td>83.7</td>\n      <td>Male</td>\n      <td>Not Anemia</td>\n    </tr>\n    <tr>\n      <th>1</th>\n      <td>2</td>\n      <td>15.9</td>\n      <td>25.4</td>\n      <td>28.3</td>\n      <td>72.0</td>\n      <td>Female</td>\n      <td>Not Anemia</td>\n    </tr>\n    <tr>\n      <th>2</th>\n      <td>3</td>\n      <td>9.0</td>\n      <td>21.5</td>\n      <td>29.6</td>\n      <td>71.2</td>\n      <td>Female</td>\n      <td>Anemia</td>\n    </tr>\n    <tr>\n      <th>3</th>\n      <td>4</td>\n      <td>14.9</td>\n      <td>16.0</td>\n      <td>31.4</td>\n      <td>87.5</td>\n      <td>Female</td>\n      <td>Not Anemia</td>\n    </tr>\n    <tr>\n      <th>4</th>\n      <td>5</td>\n      <td>14.7</td>\n      <td>22.0</td>\n      <td>28.2</td>\n      <td>99.5</td>\n      <td>Male</td>\n      <td>Not Anemia</td>\n    </tr>\n  </tbody>\n</table>\n</div>"
     },
     "execution_count": 248,
     "metadata": {},
     "output_type": "execute_result"
    }
   ],
   "source": [
    "#Data Preprocessing and analysis\n",
    "data.head()"
   ]
  },
  {
   "cell_type": "code",
   "execution_count": 249,
   "outputs": [
    {
     "data": {
      "text/plain": "NO            0\nHemoglobin    0\nMCH           0\nMCHC          0\nMCV           0\nGENDER        0\nRESULT        0\ndtype: int64"
     },
     "execution_count": 249,
     "metadata": {},
     "output_type": "execute_result"
    }
   ],
   "source": [
    "data.isnull().sum()"
   ],
   "metadata": {
    "collapsed": false,
    "ExecuteTime": {
     "end_time": "2023-10-18T11:13:25.970924Z",
     "start_time": "2023-10-18T11:13:25.891741800Z"
    }
   },
   "id": "9ef99417df691065"
  },
  {
   "cell_type": "code",
   "execution_count": 250,
   "id": "37b909ff",
   "metadata": {
    "ExecuteTime": {
     "end_time": "2023-10-18T11:13:27.034132100Z",
     "start_time": "2023-10-18T11:13:26.929263800Z"
    }
   },
   "outputs": [
    {
     "name": "stdout",
     "output_type": "stream",
     "text": [
      "<class 'pandas.core.frame.DataFrame'>\n",
      "RangeIndex: 1421 entries, 0 to 1420\n",
      "Data columns (total 7 columns):\n",
      " #   Column      Non-Null Count  Dtype  \n",
      "---  ------      --------------  -----  \n",
      " 0   NO          1421 non-null   int64  \n",
      " 1   Hemoglobin  1421 non-null   float64\n",
      " 2   MCH         1421 non-null   float64\n",
      " 3   MCHC        1421 non-null   float64\n",
      " 4   MCV         1421 non-null   float64\n",
      " 5   GENDER      1421 non-null   object \n",
      " 6   RESULT      1421 non-null   object \n",
      "dtypes: float64(4), int64(1), object(2)\n",
      "memory usage: 77.8+ KB\n"
     ]
    }
   ],
   "source": [
    "data.info()"
   ]
  },
  {
   "cell_type": "code",
   "execution_count": 251,
   "outputs": [
    {
     "name": "stdout",
     "output_type": "stream",
     "text": [
      "['Not Anemia' 'Anemia']\n"
     ]
    }
   ],
   "source": [
    "m=data[\"RESULT\"].unique()\n",
    "print(m)"
   ],
   "metadata": {
    "collapsed": false,
    "ExecuteTime": {
     "end_time": "2023-10-18T11:13:27.899186100Z",
     "start_time": "2023-10-18T11:13:27.867369900Z"
    }
   },
   "id": "585fe0b44afa78b0"
  },
  {
   "cell_type": "code",
   "execution_count": 252,
   "id": "587b8ca8",
   "metadata": {
    "ExecuteTime": {
     "end_time": "2023-10-18T11:13:28.696644800Z",
     "start_time": "2023-10-18T11:13:28.649365500Z"
    }
   },
   "outputs": [
    {
     "data": {
      "text/plain": "1    801\n0    620\nName: RESULT, dtype: int64"
     },
     "execution_count": 252,
     "metadata": {},
     "output_type": "execute_result"
    }
   ],
   "source": [
    "data.replace([\"Male\",\"Female\"],[int(0),int(1)],inplace=True)\n",
    "data.replace([\"Anemia\",\"Not Anemia\"],[int(0),int(1)],inplace=True)\n",
    "color=[\"#CD5C5C\",\"#FFA07A\"]\n",
    "data[\"RESULT\"].value_counts()"
   ]
  },
  {
   "cell_type": "code",
   "execution_count": 253,
   "id": "8cd58fc1",
   "metadata": {
    "ExecuteTime": {
     "end_time": "2023-10-18T11:13:30.189176500Z",
     "start_time": "2023-10-18T11:13:29.973969500Z"
    }
   },
   "outputs": [
    {
     "data": {
      "text/plain": "Text(0.5, 1.0, 'Anemia Result')"
     },
     "execution_count": 253,
     "metadata": {},
     "output_type": "execute_result"
    },
    {
     "data": {
      "text/plain": "<Figure size 432x288 with 1 Axes>",
      "image/png": "[encoded data removed]"
     },
     "metadata": {},
     "output_type": "display_data"
    }
   ],
   "source": [
    "data[\"RESULT\"].value_counts().plot.bar()\n",
    "plt.title(\"Anemia Result\")"
   ]
  },
  {
   "cell_type": "code",
   "execution_count": 254,
   "id": "60c77644",
   "metadata": {
    "ExecuteTime": {
     "end_time": "2023-10-18T11:13:31.247055500Z",
     "start_time": "2023-10-18T11:13:31.215817900Z"
    }
   },
   "outputs": [],
   "source": [
    "#there is a imbalance in the Result. assumption: there is chance of overfit in the model may occur"
   ]
  },
  {
   "cell_type": "code",
   "execution_count": 217,
   "id": "04a795a5",
   "metadata": {
    "ExecuteTime": {
     "end_time": "2023-10-17T15:37:26.578205Z",
     "start_time": "2023-10-17T15:37:26.328170600Z"
    }
   },
   "outputs": [
    {
     "data": {
      "text/plain": "<Figure size 432x288 with 1 Axes>",
      "image/png": "[encoded data removed]"
     },
     "metadata": {},
     "output_type": "display_data"
    },
    {
     "data": {
      "text/plain": "<Figure size 576x432 with 0 Axes>"
     },
     "metadata": {},
     "output_type": "display_data"
    }
   ],
   "source": [
    "iqr = np.percentile(data['Hemoglobin'], 75) - np.percentile(data['Hemoglobin'], 25)\n",
    "\n",
    "# Bin width using the Freedman-Diaconis rule \n",
    "bin_width = 2 * iqr / (len(data)**(1/3))\n",
    "                    \n",
    "sns.distplot(data['Hemoglobin'], hist=True, kde=True, \n",
    "             bins=int(round((data['Hemoglobin'].max() - data['Hemoglobin'].min()) / bin_width)),\n",
    "             color='#9FE2BF',\n",
    "             hist_kws={'edgecolor':'black', 'alpha': 0.8},\n",
    "             kde_kws={'linewidth': 2})\n",
    "plt.xlabel('Hemoglobin', fontsize=15)\n",
    "plt.ylabel('Count', fontsize=15)\n",
    "\n",
    "\n",
    "sns.despine(left=True, bottom=True)\n",
    "\n",
    "# Adjust plot size\n",
    "plt.figure(figsize=(8, 6))\n",
    "# Show plot\n",
    "plt.show()\n"
   ]
  },
  {
   "cell_type": "code",
   "execution_count": 218,
   "id": "ad14433a",
   "metadata": {
    "ExecuteTime": {
     "end_time": "2023-10-17T15:37:27.627930Z",
     "start_time": "2023-10-17T15:37:27.510370400Z"
    }
   },
   "outputs": [
    {
     "data": {
      "text/plain": "    Level      Value\n0     low   6.600000\n1  normal  13.412738\n2    high  16.900000",
      "text/html": "<div>\n<style scoped>\n    .dataframe tbody tr th:only-of-type {\n        vertical-align: middle;\n    }\n\n    .dataframe tbody tr th {\n        vertical-align: top;\n    }\n\n    .dataframe thead th {\n        text-align: right;\n    }\n</style>\n<table border=\"1\" class=\"dataframe\">\n  <thead>\n    <tr style=\"text-align: right;\">\n      <th></th>\n      <th>Level</th>\n      <th>Value</th>\n    </tr>\n  </thead>\n  <tbody>\n    <tr>\n      <th>0</th>\n      <td>low</td>\n      <td>6.600000</td>\n    </tr>\n    <tr>\n      <th>1</th>\n      <td>normal</td>\n      <td>13.412738</td>\n    </tr>\n    <tr>\n      <th>2</th>\n      <td>high</td>\n      <td>16.900000</td>\n    </tr>\n  </tbody>\n</table>\n</div>"
     },
     "execution_count": 218,
     "metadata": {},
     "output_type": "execute_result"
    }
   ],
   "source": [
    "# Create a dictionary with the values\n",
    "hemoglobindata = {'Level': ['low', 'normal', 'high'],\n",
    "                   'Value': [data['Hemoglobin'].min(), data['Hemoglobin'].mean(), data['Hemoglobin'].max()]}\n",
    "hemoglobin_tb = pd.DataFrame(hemoglobindata)\n",
    "hemoglobin_tb\n",
    "# as we see in above visulaization we can confirm that the normal hemogloblin level ranges from 13.4 to 16.9g per deciliter.\n",
    "# men<13.4 is low hemoglobin\n",
    "# women<11.6 is low hemoglobin"
   ]
  },
  {
   "cell_type": "code",
   "execution_count": 219,
   "id": "ca7a7e29",
   "metadata": {
    "ExecuteTime": {
     "end_time": "2023-10-17T15:37:28.512045100Z",
     "start_time": "2023-10-17T15:37:28.449586700Z"
    }
   },
   "outputs": [
    {
     "data": {
      "text/plain": "    Level     Value\n0     low  16.00000\n1  normal  22.90563\n2    high  30.00000",
      "text/html": "<div>\n<style scoped>\n    .dataframe tbody tr th:only-of-type {\n        vertical-align: middle;\n    }\n\n    .dataframe tbody tr th {\n        vertical-align: top;\n    }\n\n    .dataframe thead th {\n        text-align: right;\n    }\n</style>\n<table border=\"1\" class=\"dataframe\">\n  <thead>\n    <tr style=\"text-align: right;\">\n      <th></th>\n      <th>Level</th>\n      <th>Value</th>\n    </tr>\n  </thead>\n  <tbody>\n    <tr>\n      <th>0</th>\n      <td>low</td>\n      <td>16.00000</td>\n    </tr>\n    <tr>\n      <th>1</th>\n      <td>normal</td>\n      <td>22.90563</td>\n    </tr>\n    <tr>\n      <th>2</th>\n      <td>high</td>\n      <td>30.00000</td>\n    </tr>\n  </tbody>\n</table>\n</div>"
     },
     "execution_count": 219,
     "metadata": {},
     "output_type": "execute_result"
    }
   ],
   "source": [
    "#MCH is a Mean corpuscular hemoglobin level\n",
    "MCHdata = {'Level': ['low', 'normal', 'high'],'Value': [data['MCH'].min(), data['MCH'].mean(), data['MCH'].max()]}\n",
    "MCHtb = pd.DataFrame(MCHdata)\n",
    "MCHtb"
   ]
  },
  {
   "cell_type": "code",
   "execution_count": 220,
   "id": "56e5ffc1",
   "metadata": {
    "ExecuteTime": {
     "end_time": "2023-10-17T15:37:29.460054200Z",
     "start_time": "2023-10-17T15:37:29.381948600Z"
    }
   },
   "outputs": [
    {
     "data": {
      "text/plain": "    Level      Value\n0     Low  27.800000\n1  Normal  30.251232\n2    High  32.500000",
      "text/html": "<div>\n<style scoped>\n    .dataframe tbody tr th:only-of-type {\n        vertical-align: middle;\n    }\n\n    .dataframe tbody tr th {\n        vertical-align: top;\n    }\n\n    .dataframe thead th {\n        text-align: right;\n    }\n</style>\n<table border=\"1\" class=\"dataframe\">\n  <thead>\n    <tr style=\"text-align: right;\">\n      <th></th>\n      <th>Level</th>\n      <th>Value</th>\n    </tr>\n  </thead>\n  <tbody>\n    <tr>\n      <th>0</th>\n      <td>Low</td>\n      <td>27.800000</td>\n    </tr>\n    <tr>\n      <th>1</th>\n      <td>Normal</td>\n      <td>30.251232</td>\n    </tr>\n    <tr>\n      <th>2</th>\n      <td>High</td>\n      <td>32.500000</td>\n    </tr>\n  </tbody>\n</table>\n</div>"
     },
     "execution_count": 220,
     "metadata": {},
     "output_type": "execute_result"
    }
   ],
   "source": [
    "#Mean corpusculare hemoglbin concentration\n",
    "MCHCdata = {'Level': ['Low', 'Normal', 'High'],'Value': [data['MCHC'].min(), data['MCHC'].mean(), data['MCHC'].max()]}\n",
    "MCHCtable = pd.DataFrame(MCHCdata)\n",
    "MCHCtable"
   ]
  },
  {
   "cell_type": "code",
   "execution_count": 221,
   "id": "b2c31972",
   "metadata": {
    "ExecuteTime": {
     "end_time": "2023-10-17T15:37:30.556461100Z",
     "start_time": "2023-10-17T15:37:30.493930700Z"
    }
   },
   "outputs": [
    {
     "data": {
      "text/plain": "    Level       Value\n0     Low   69.400000\n1  Normal   85.563969\n2    High  109.400000",
      "text/html": "<div>\n<style scoped>\n    .dataframe tbody tr th:only-of-type {\n        vertical-align: middle;\n    }\n\n    .dataframe tbody tr th {\n        vertical-align: top;\n    }\n\n    .dataframe thead th {\n        text-align: right;\n    }\n</style>\n<table border=\"1\" class=\"dataframe\">\n  <thead>\n    <tr style=\"text-align: right;\">\n      <th></th>\n      <th>Level</th>\n      <th>Value</th>\n    </tr>\n  </thead>\n  <tbody>\n    <tr>\n      <th>0</th>\n      <td>Low</td>\n      <td>69.400000</td>\n    </tr>\n    <tr>\n      <th>1</th>\n      <td>Normal</td>\n      <td>85.563969</td>\n    </tr>\n    <tr>\n      <th>2</th>\n      <td>High</td>\n      <td>109.400000</td>\n    </tr>\n  </tbody>\n</table>\n</div>"
     },
     "execution_count": 221,
     "metadata": {},
     "output_type": "execute_result"
    }
   ],
   "source": [
    "MCVdata = {'Level': ['Low', 'Normal', 'High'],'Value': [data['MCV'].min(), data['MCV'].mean(), data['MCV'].max()]}\n",
    "MCVtb = pd.DataFrame(MCVdata)\n",
    "MCVtb"
   ]
  },
  {
   "cell_type": "code",
   "execution_count": 254,
   "id": "601d9832",
   "metadata": {
    "ExecuteTime": {
     "end_time": "2023-10-18T11:26:26.548308Z",
     "start_time": "2023-10-18T11:26:26.532661300Z"
    }
   },
   "outputs": [],
   "source": []
  },
  {
   "cell_type": "code",
   "execution_count": 223,
   "id": "7f8e5a4a",
   "metadata": {
    "ExecuteTime": {
     "end_time": "2023-10-17T15:37:39.754190200Z",
     "start_time": "2023-10-17T15:37:39.691603100Z"
    }
   },
   "outputs": [
    {
     "name": "stdout",
     "output_type": "stream",
     "text": [
      "Chi-Square Statistic: 90.06\n",
      "P-Value: 0.000\n",
      "Null hypothesis: Gender and anemia status are dependent so null hypothesis got rejected.\n"
     ]
    }
   ],
   "source": [
    "#Statistical testing of Data\n",
    "from scipy.stats import chi2_contingency \n",
    "\n",
    "# Create a contingency table of gender and anemia status\n",
    "contb = pd.crosstab(data['GENDER'], data['RESULT'])\n",
    "\n",
    "# Perform the chi-square test of independence\n",
    "chi2_statistic, p_value, dof, expected = chi2_contingency(contb)\n",
    "\n",
    "# Print the results\n",
    "print(\"Chi-Square Statistic: {:.2f}\".format(chi2_statistic))\n",
    "print(\"P-Value: {:.3f}\".format(p_value))\n",
    "\n",
    "# Compare the p-value with the significance level (0.05)\n",
    "if p_value < 0.05:\n",
    "    print(\"Null hypothesis: Gender and anemia status are dependent so null hypothesis got rejected.\")\n",
    "else:\n",
    "    print(\"Fail to reject null hypothesis: Gender and anemia status are independent.\")"
   ]
  },
  {
   "cell_type": "code",
   "execution_count": 224,
   "id": "9a0114ec",
   "metadata": {
    "ExecuteTime": {
     "end_time": "2023-10-17T15:37:41.713269800Z",
     "start_time": "2023-10-17T15:37:41.330246700Z"
    }
   },
   "outputs": [
    {
     "data": {
      "text/plain": "<Figure size 432x288 with 2 Axes>",
      "image/png": "[encoded data removed]"
     },
     "metadata": {},
     "output_type": "display_data"
    }
   ],
   "source": [
    "corr_matrix = data.corr().round(2)\n",
    "\n",
    "# plot the correlation matrix using a heatmap from seaborn\n",
    "sns.heatmap(corr_matrix, cmap='coolwarm', annot=True)\n",
    "#plt.title('Correlation Matrix', fontweight='bold')\n",
    "plt.show()"
   ]
  },
  {
   "cell_type": "code",
   "execution_count": 225,
   "id": "d55f8ef2",
   "metadata": {
    "ExecuteTime": {
     "end_time": "2023-10-17T15:37:42.649968700Z",
     "start_time": "2023-10-17T15:37:42.618501800Z"
    }
   },
   "outputs": [],
   "source": [
    "#Feature Selection use of cross validation extra tree classifier \n",
    "X = data.iloc[:,1:6]  # independent columns\n",
    "y = data.iloc[:,6] "
   ]
  },
  {
   "cell_type": "code",
   "execution_count": 226,
   "id": "1b4aa691",
   "metadata": {
    "ExecuteTime": {
     "end_time": "2023-10-17T15:37:44.797876Z",
     "start_time": "2023-10-17T15:37:44.625809800Z"
    }
   },
   "outputs": [
    {
     "data": {
      "text/plain": "ExtraTreesClassifier()"
     },
     "execution_count": 226,
     "metadata": {},
     "output_type": "execute_result"
    }
   ],
   "source": [
    "from sklearn.ensemble import ExtraTreesClassifier\n",
    "import matplotlib.pyplot as plt\n",
    "model = ExtraTreesClassifier()\n",
    "model.fit(X,y)"
   ]
  },
  {
   "cell_type": "code",
   "execution_count": 227,
   "id": "2ffc4de2",
   "metadata": {
    "ExecuteTime": {
     "end_time": "2023-10-17T15:37:46.877689600Z",
     "start_time": "2023-10-17T15:37:46.705832400Z"
    }
   },
   "outputs": [
    {
     "data": {
      "text/plain": "<Figure size 432x288 with 1 Axes>",
      "image/png": "[encoded data removed]"
     },
     "metadata": {},
     "output_type": "display_data"
    }
   ],
   "source": [
    "#plot graph of feature importances for better visualization\n",
    "feat_importances = pd.Series(model.feature_importances_, index=X.columns)\n",
    "\n",
    "feat_importances.nlargest(4).plot(kind='barh', color='#40E0D0')\n",
    "plt.xlabel('Importance')\n",
    "# plt.title('Top 4 Features Importance', fontweight='bold', fontsize=12)\n",
    "\n",
    "plt.show()"
   ]
  },
  {
   "cell_type": "code",
   "execution_count": 229,
   "id": "353f18db",
   "metadata": {
    "ExecuteTime": {
     "end_time": "2023-10-17T15:38:17.186355500Z",
     "start_time": "2023-10-17T15:38:17.113748200Z"
    }
   },
   "outputs": [],
   "source": [
    "#splitting of required features for training\n",
    "X=data[[\"Hemoglobin\",\"MCV\",\"MCH\",\"GENDER\"]]\n",
    "y=data[[\"RESULT\"]]"
   ]
  },
  {
   "cell_type": "code",
   "execution_count": 230,
   "id": "6f2115d0",
   "metadata": {
    "ExecuteTime": {
     "end_time": "2023-10-17T15:38:18.748758200Z",
     "start_time": "2023-10-17T15:38:18.670565500Z"
    }
   },
   "outputs": [
    {
     "data": {
      "text/plain": "      Hemoglobin   MCV   MCH  GENDER\n0           14.9  83.7  22.7       0\n1           15.9  72.0  25.4       1\n2            9.0  71.2  21.5       1\n3           14.9  87.5  16.0       1\n4           14.7  99.5  22.0       0\n...          ...   ...   ...     ...\n1416        10.6  82.9  25.4       1\n1417        12.1  86.9  28.3       0\n1418        13.1  80.7  17.7       0\n1419        14.3  95.2  16.2       1\n1420        11.8  98.1  21.2       1\n\n[1421 rows x 4 columns]",
      "text/html": "<div>\n<style scoped>\n    .dataframe tbody tr th:only-of-type {\n        vertical-align: middle;\n    }\n\n    .dataframe tbody tr th {\n        vertical-align: top;\n    }\n\n    .dataframe thead th {\n        text-align: right;\n    }\n</style>\n<table border=\"1\" class=\"dataframe\">\n  <thead>\n    <tr style=\"text-align: right;\">\n      <th></th>\n      <th>Hemoglobin</th>\n      <th>MCV</th>\n      <th>MCH</th>\n      <th>GENDER</th>\n    </tr>\n  </thead>\n  <tbody>\n    <tr>\n      <th>0</th>\n      <td>14.9</td>\n      <td>83.7</td>\n      <td>22.7</td>\n      <td>0</td>\n    </tr>\n    <tr>\n      <th>1</th>\n      <td>15.9</td>\n      <td>72.0</td>\n      <td>25.4</td>\n      <td>1</td>\n    </tr>\n    <tr>\n      <th>2</th>\n      <td>9.0</td>\n      <td>71.2</td>\n      <td>21.5</td>\n      <td>1</td>\n    </tr>\n    <tr>\n      <th>3</th>\n      <td>14.9</td>\n      <td>87.5</td>\n      <td>16.0</td>\n      <td>1</td>\n    </tr>\n    <tr>\n      <th>4</th>\n      <td>14.7</td>\n      <td>99.5</td>\n      <td>22.0</td>\n      <td>0</td>\n    </tr>\n    <tr>\n      <th>...</th>\n      <td>...</td>\n      <td>...</td>\n      <td>...</td>\n      <td>...</td>\n    </tr>\n    <tr>\n      <th>1416</th>\n      <td>10.6</td>\n      <td>82.9</td>\n      <td>25.4</td>\n      <td>1</td>\n    </tr>\n    <tr>\n      <th>1417</th>\n      <td>12.1</td>\n      <td>86.9</td>\n      <td>28.3</td>\n      <td>0</td>\n    </tr>\n    <tr>\n      <th>1418</th>\n      <td>13.1</td>\n      <td>80.7</td>\n      <td>17.7</td>\n      <td>0</td>\n    </tr>\n    <tr>\n      <th>1419</th>\n      <td>14.3</td>\n      <td>95.2</td>\n      <td>16.2</td>\n      <td>1</td>\n    </tr>\n    <tr>\n      <th>1420</th>\n      <td>11.8</td>\n      <td>98.1</td>\n      <td>21.2</td>\n      <td>1</td>\n    </tr>\n  </tbody>\n</table>\n<p>1421 rows × 4 columns</p>\n</div>"
     },
     "execution_count": 230,
     "metadata": {},
     "output_type": "execute_result"
    }
   ],
   "source": [
    "X"
   ]
  },
  {
   "cell_type": "code",
   "execution_count": 231,
   "id": "73b1227a",
   "metadata": {
    "ExecuteTime": {
     "end_time": "2023-10-17T15:38:22.089458400Z",
     "start_time": "2023-10-17T15:38:22.011403600Z"
    }
   },
   "outputs": [
    {
     "data": {
      "text/plain": "      RESULT\n0          1\n1          1\n2          0\n3          1\n4          1\n...      ...\n1416       0\n1417       0\n1418       0\n1419       1\n1420       0\n\n[1421 rows x 1 columns]",
      "text/html": "<div>\n<style scoped>\n    .dataframe tbody tr th:only-of-type {\n        vertical-align: middle;\n    }\n\n    .dataframe tbody tr th {\n        vertical-align: top;\n    }\n\n    .dataframe thead th {\n        text-align: right;\n    }\n</style>\n<table border=\"1\" class=\"dataframe\">\n  <thead>\n    <tr style=\"text-align: right;\">\n      <th></th>\n      <th>RESULT</th>\n    </tr>\n  </thead>\n  <tbody>\n    <tr>\n      <th>0</th>\n      <td>1</td>\n    </tr>\n    <tr>\n      <th>1</th>\n      <td>1</td>\n    </tr>\n    <tr>\n      <th>2</th>\n      <td>0</td>\n    </tr>\n    <tr>\n      <th>3</th>\n      <td>1</td>\n    </tr>\n    <tr>\n      <th>4</th>\n      <td>1</td>\n    </tr>\n    <tr>\n      <th>...</th>\n      <td>...</td>\n    </tr>\n    <tr>\n      <th>1416</th>\n      <td>0</td>\n    </tr>\n    <tr>\n      <th>1417</th>\n      <td>0</td>\n    </tr>\n    <tr>\n      <th>1418</th>\n      <td>0</td>\n    </tr>\n    <tr>\n      <th>1419</th>\n      <td>1</td>\n    </tr>\n    <tr>\n      <th>1420</th>\n      <td>0</td>\n    </tr>\n  </tbody>\n</table>\n<p>1421 rows × 1 columns</p>\n</div>"
     },
     "execution_count": 231,
     "metadata": {},
     "output_type": "execute_result"
    }
   ],
   "source": [
    "y"
   ]
  },
  {
   "cell_type": "code",
   "execution_count": 232,
   "id": "7486d470",
   "metadata": {
    "ExecuteTime": {
     "end_time": "2023-10-17T15:38:23.064941300Z",
     "start_time": "2023-10-17T15:38:23.049293600Z"
    }
   },
   "outputs": [],
   "source": [
    "from sklearn.model_selection import train_test_split\n",
    "X_train, X_test, y_train, y_test = train_test_split(X, y, test_size=0.30, shuffle=True, random_state=25)"
   ]
  },
  {
   "cell_type": "code",
   "execution_count": 233,
   "id": "17972a3a",
   "metadata": {
    "ExecuteTime": {
     "end_time": "2023-10-17T15:38:24.629736200Z",
     "start_time": "2023-10-17T15:38:24.172177400Z"
    }
   },
   "outputs": [
    {
     "name": "stdout",
     "output_type": "stream",
     "text": [
      "100.0\n"
     ]
    }
   ],
   "source": [
    "from sklearn.ensemble import RandomForestClassifier\n",
    "RF=RandomForestClassifier(max_features='auto', n_estimators=200)\n",
    "RF.fit(X_train, y_train)\n",
    "p3=RF.score(X_test,y_test)*100\n",
    "print(p3)"
   ]
  },
  {
   "cell_type": "code",
   "execution_count": 234,
   "id": "06defb23",
   "metadata": {
    "ExecuteTime": {
     "end_time": "2023-10-17T15:38:25.400745200Z",
     "start_time": "2023-10-17T15:38:25.285947500Z"
    }
   },
   "outputs": [
    {
     "name": "stdout",
     "output_type": "stream",
     "text": [
      "100.0\n"
     ]
    }
   ],
   "source": [
    "from sklearn.ensemble import AdaBoostClassifier\n",
    "ADA=AdaBoostClassifier()\n",
    "ADA.fit(X_train, y_train)\n",
    "p2=ADA.score(X_test,y_test)*100\n",
    "print(p2)"
   ]
  },
  {
   "cell_type": "code",
   "execution_count": 235,
   "id": "343cd9f7",
   "metadata": {
    "ExecuteTime": {
     "end_time": "2023-10-17T15:38:26.185327600Z",
     "start_time": "2023-10-17T15:38:26.122803800Z"
    }
   },
   "outputs": [
    {
     "name": "stdout",
     "output_type": "stream",
     "text": [
      "100.0\n"
     ]
    }
   ],
   "source": [
    "from sklearn.tree import DecisionTreeClassifier\n",
    "DC=DecisionTreeClassifier()\n",
    "DC.fit(X_train, y_train)\n",
    "p4=DC.score(X_test,y_test)*100\n",
    "print(p4)"
   ]
  },
  {
   "cell_type": "code",
   "execution_count": 236,
   "id": "76c99dd8",
   "metadata": {
    "ExecuteTime": {
     "end_time": "2023-10-17T15:38:27.968242100Z",
     "start_time": "2023-10-17T15:38:27.936696900Z"
    }
   },
   "outputs": [
    {
     "name": "stdout",
     "output_type": "stream",
     "text": [
      "91.56908665105387\n"
     ]
    }
   ],
   "source": [
    "from sklearn.naive_bayes import GaussianNB\n",
    "GB=GaussianNB()\n",
    "GB.fit(X_train,y_train)\n",
    "p5=GB.score(X_test,y_test)*100\n",
    "print(p5)"
   ]
  },
  {
   "cell_type": "code",
   "execution_count": 237,
   "id": "425dfbe8",
   "metadata": {
    "ExecuteTime": {
     "end_time": "2023-10-17T15:38:28.270298500Z",
     "start_time": "2023-10-17T15:38:28.207705600Z"
    }
   },
   "outputs": [
    {
     "name": "stdout",
     "output_type": "stream",
     "text": [
      "98.36065573770492\n"
     ]
    }
   ],
   "source": [
    "from sklearn.linear_model import LogisticRegression\n",
    "LR=LogisticRegression(random_state=0,max_iter=3000)\n",
    "LR.fit(X_train, y_train)\n",
    "p1=LR.score(X_test,y_test)*100\n",
    "print(p1)"
   ]
  },
  {
   "cell_type": "code",
   "execution_count": 238,
   "id": "fe63b23d",
   "metadata": {
    "ExecuteTime": {
     "end_time": "2023-10-17T15:38:28.578594200Z",
     "start_time": "2023-10-17T15:38:28.409283200Z"
    }
   },
   "outputs": [
    {
     "data": {
      "text/plain": "<Figure size 1080x432 with 1 Axes>",
      "image/png": "[encoded data removed]"
     },
     "metadata": {},
     "output_type": "display_data"
    }
   ],
   "source": [
    "a=[\"LogisticRegression\",\"AdaBoostClassifier\",\"RandomForestClassifier\",\"DecisionTreeClassifier\",\"GaussianNB\"]\n",
    "b=[p1,p2,p3,p4,p5]\n",
    "plt.figure(figsize=(15,6))\n",
    "plt.bar(a,b)\n",
    "plt.title(\"Accuracy Graph\")\n",
    "plt.xlabel(\"Algorithm\")\n",
    "plt.ylabel(\"percentage\")\n",
    "plt.show()"
   ]
  },
  {
   "cell_type": "code",
   "execution_count": 239,
   "id": "1e8be0e7",
   "metadata": {
    "ExecuteTime": {
     "end_time": "2023-10-17T15:38:29.157954100Z",
     "start_time": "2023-10-17T15:38:28.688207400Z"
    }
   },
   "outputs": [
    {
     "data": {
      "text/plain": "100.0"
     },
     "execution_count": 239,
     "metadata": {},
     "output_type": "execute_result"
    }
   ],
   "source": [
    "#use of ensemble\n",
    "from sklearn.ensemble import VotingClassifier\n",
    "model = VotingClassifier(estimators=[('lr', RF), ('dt', ADA)], voting='soft')\n",
    "model.fit(X_train,y_train)\n",
    "model.score(X_test,y_test)*100"
   ]
  },
  {
   "cell_type": "code",
   "execution_count": 240,
   "id": "a96c221f",
   "metadata": {
    "ExecuteTime": {
     "end_time": "2023-10-17T15:38:29.251935400Z",
     "start_time": "2023-10-17T15:38:29.157954100Z"
    }
   },
   "outputs": [
    {
     "name": "stdout",
     "output_type": "stream",
     "text": [
      "              precision    recall  f1-score   support\n",
      "\n",
      "           0       1.00      1.00      1.00       193\n",
      "           1       1.00      1.00      1.00       234\n",
      "\n",
      "    accuracy                           1.00       427\n",
      "   macro avg       1.00      1.00      1.00       427\n",
      "weighted avg       1.00      1.00      1.00       427\n"
     ]
    }
   ],
   "source": [
    "from sklearn import metrics\n",
    "result = model.predict(X_test)\n",
    "print(metrics.classification_report(y_test, result))"
   ]
  },
  {
   "cell_type": "code",
   "execution_count": 241,
   "id": "26d17d96",
   "metadata": {
    "ExecuteTime": {
     "end_time": "2023-10-17T15:38:29.330540400Z",
     "start_time": "2023-10-17T15:38:29.236304400Z"
    }
   },
   "outputs": [
    {
     "name": "stdout",
     "output_type": "stream",
     "text": [
      "Accuracy :1.00000\n",
      "ROC_AUC : 1.00000\n",
      "Precision : 1.00000\n",
      "Recall : 1.00000\n",
      "F1 : 1.00000\n"
     ]
    }
   ],
   "source": [
    "print('Accuracy :{0:0.5f}'.format(metrics.accuracy_score(result , y_test))) \n",
    "print('ROC_AUC : {0:0.5f}'.format(metrics.roc_auc_score(y_test , result)))\n",
    "print('Precision : {0:0.5f}'.format(metrics.precision_score(y_test , result)))\n",
    "print('Recall : {0:0.5f}'.format(metrics.recall_score(y_test , result)))\n",
    "print('F1 : {0:0.5f}'.format(metrics.f1_score(y_test , result)))\n",
    "# print('Confusion Matrix : \\n', cnf_matrix)\n",
    "print(\"\\n\")"
   ]
  },
  {
   "cell_type": "code",
   "execution_count": 242,
   "id": "e1d6b872",
   "metadata": {
    "ExecuteTime": {
     "end_time": "2023-10-17T15:38:29.627641600Z",
     "start_time": "2023-10-17T15:38:29.549514900Z"
    }
   },
   "outputs": [
    {
     "data": {
      "text/plain": "array([[193,   0],\n       [  0, 234]], dtype=int64)"
     },
     "execution_count": 242,
     "metadata": {},
     "output_type": "execute_result"
    }
   ],
   "source": [
    "confusionmtr = metrics.confusion_matrix(y_test,result)\n",
    "confusionmtr"
   ]
  },
  {
   "cell_type": "code",
   "execution_count": 243,
   "id": "89e6709e",
   "metadata": {
    "ExecuteTime": {
     "end_time": "2023-10-17T15:38:30.662922400Z",
     "start_time": "2023-10-17T15:38:30.490955500Z"
    }
   },
   "outputs": [
    {
     "data": {
      "text/plain": "<Figure size 432x288 with 2 Axes>",
      "image/png": "[encoded data removed]"
     },
     "metadata": {},
     "output_type": "display_data"
    }
   ],
   "source": [
    "p = sns.heatmap(pd.DataFrame(confusionmtr), annot=True, annot_kws={\"size\": 25}, cmap=\"cool\" ,fmt='g')\n",
    "plt.title('Confusion matrix', y=1.1, fontsize = 22)\n",
    "plt.ylabel('Actual',fontsize = 18)\n",
    "plt.xlabel('Predicted',fontsize = 18)\n",
    "plt.show()"
   ]
  },
  {
   "cell_type": "code",
   "execution_count": 245,
   "id": "b4a48b11",
   "metadata": {
    "ExecuteTime": {
     "end_time": "2023-10-17T15:39:14.972757200Z",
     "start_time": "2023-10-17T15:39:14.925526Z"
    }
   },
   "outputs": [
    {
     "name": "stdout",
     "output_type": "stream",
     "text": [
      "Ensemble model: model.pkl\n"
     ]
    }
   ],
   "source": [
    "import pickle\n",
    "filename = 'model.pkl'\n",
    "pickle.dump(model, open(filename, 'wb'))\n",
    "print(\"Ensemble model:\", filename)"
   ]
  }
 ],
 "metadata": {
  "kernelspec": {
   "display_name": "Python 3 (ipykernel)",
   "language": "python",
   "name": "python3"
  },
  "language_info": {
   "codemirror_mode": {
    "name": "ipython",
    "version": 3
   },
   "file_extension": ".py",
   "mimetype": "text/x-python",
   "name": "python",
   "nbconvert_exporter": "python",
   "pygments_lexer": "ipython3",
   "version": "3.7.4"
  }
 },
 "nbformat": 4,
 "nbformat_minor": 5
}
